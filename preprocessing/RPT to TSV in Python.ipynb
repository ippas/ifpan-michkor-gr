{
 "cells": [
  {
   "cell_type": "code",
   "execution_count": 5,
   "id": "f8591dfa",
   "metadata": {},
   "outputs": [
    {
     "name": "stderr",
     "output_type": "stream",
     "text": [
      "C:\\Users\\joasi\\AppData\\Local\\Temp\\ipykernel_16356\\3072471857.py:7: DtypeWarning: Columns (5,7,14) have mixed types. Specify dtype option on import or set low_memory=False.\n",
      "  df = pd.read_csv(input_file, delimiter='\\t', header=None)\n"
     ]
    },
    {
     "name": "stdout",
     "output_type": "stream",
     "text": [
      "File converted successfully!\n"
     ]
    }
   ],
   "source": [
    "import pandas as pd\n",
    "\n",
    "input_file = 'MGI_EntrezGene.rpt'\n",
    "output_file = 'MGI_EntrezGene.tsv'\n",
    "\n",
    "# Read the RPT file as a DataFrame\n",
    "df = pd.read_csv(input_file, delimiter='\\t', header=None)\n",
    "\n",
    "# Save the DataFrame as a TSV file\n",
    "df.to_csv(output_file, sep='\\t', index=False, header=False)\n",
    "\n",
    "print(\"File converted successfully!\")"
   ]
  },
  {
   "cell_type": "code",
   "execution_count": null,
   "id": "c350ff51",
   "metadata": {},
   "outputs": [],
   "source": []
  }
 ],
 "metadata": {
  "kernelspec": {
   "display_name": "Python 3 (ipykernel)",
   "language": "python",
   "name": "python3"
  },
  "language_info": {
   "codemirror_mode": {
    "name": "ipython",
    "version": 3
   },
   "file_extension": ".py",
   "mimetype": "text/x-python",
   "name": "python",
   "nbconvert_exporter": "python",
   "pygments_lexer": "ipython3",
   "version": "3.9.13"
  }
 },
 "nbformat": 4,
 "nbformat_minor": 5
}
