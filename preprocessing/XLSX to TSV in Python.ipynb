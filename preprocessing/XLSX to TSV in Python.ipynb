{
 "cells": [
  {
   "cell_type": "code",
   "execution_count": 2,
   "id": "aa1255c3",
   "metadata": {},
   "outputs": [],
   "source": [
    "import pandas as pd\n",
    "\n",
    "\n",
    "# Path to the input XLSX file\n",
    "xlsx_file = (r\".\\maping_metabolon_nightgale\\Metabolon\\Metabolon 108\\all\\metabolon-joined-all.xlsx\")\n",
    "\n",
    "# Path to save the output TSV file\n",
    "tsv_file = (r\".\\maping_metabolon_nightgale\\Metabolon\\Metabolon 108\\all\\metabolon-joined-all.tsv\")\n",
    "\n",
    "# Read the XLSX file into a pandas DataFrame\n",
    "df = pd.read_excel(xlsx_file)\n",
    "\n",
    "# Save the DataFrame as a TSV file\n",
    "df.to_csv(tsv_file, sep='\\t', index=False)\n"
   ]
  },
  {
   "cell_type": "code",
   "execution_count": null,
   "id": "f70338e0",
   "metadata": {},
   "outputs": [],
   "source": []
  }
 ],
 "metadata": {
  "kernelspec": {
   "display_name": "Python 3 (ipykernel)",
   "language": "python",
   "name": "python3"
  },
  "language_info": {
   "codemirror_mode": {
    "name": "ipython",
    "version": 3
   },
   "file_extension": ".py",
   "mimetype": "text/x-python",
   "name": "python",
   "nbconvert_exporter": "python",
   "pygments_lexer": "ipython3",
   "version": "3.9.13"
  }
 },
 "nbformat": 4,
 "nbformat_minor": 5
}
