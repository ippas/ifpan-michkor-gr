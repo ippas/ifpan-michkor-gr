{
 "cells": [
  {
   "cell_type": "code",
   "execution_count": 3,
   "id": "121c9864",
   "metadata": {},
   "outputs": [
    {
     "name": "stdout",
     "output_type": "stream",
     "text": [
      "TSV files created successfully!\n"
     ]
    }
   ],
   "source": [
    "#CSV_TSV\n",
    "import os\n",
    "import csv\n",
    "\n",
    "input_directory = r'./Nightingale 7'\n",
    "\n",
    "csv_files = [file for file in os.listdir(input_directory) if file.endswith(\".csv\")]\n",
    "\n",
    "for file_name in csv_files:\n",
    "    input_file_path = os.path.join(input_directory, file_name)\n",
    "    output_file_path = os.path.join(input_directory, file_name[:-4] + \".tsv\")\n",
    "\n",
    "# Convert CSV to TSV\n",
    "    with open(input_file_path, 'r', newline='') as csv_file:\n",
    "        reader = csv.reader(csv_file)\n",
    "        rows = list(reader)\n",
    "    \n",
    "# Write the rows to the output TSV file\n",
    "    with open(output_file_path, 'w', newline='') as tsv_file:\n",
    "        writer = csv.writer(tsv_file, delimiter='\\t')\n",
    "        writer.writerows(rows)\n",
    "\n",
    "print(\"TSV files created successfully!\")"
   ]
  },
  {
   "cell_type": "code",
   "execution_count": 5,
   "id": "ffe9920f",
   "metadata": {},
   "outputs": [
    {
     "name": "stdout",
     "output_type": "stream",
     "text": [
      "TSV files modified successfully!\n"
     ]
    }
   ],
   "source": [
    "# deleting rsid info to leave general info\n",
    "\n",
    "import os\n",
    "\n",
    "input_directory = r'.\\Nightingale 8'\n",
    "\n",
    "# Get a list of all TSV files in the input directory\n",
    "tsv_files = [file for file in os.listdir(input_directory) if file.endswith(\".tsv\")]\n",
    "\n",
    "# Process each TSV file\n",
    "for file_name in tsv_files:\n",
    "    input_file_path = os.path.join(input_directory, file_name)\n",
    "    output_file_path = os.path.join(input_directory, file_name)\n",
    "\n",
    "    with open(input_file_path, 'r') as file:\n",
    "        lines = file.readlines()[1:] \n",
    "\n",
    "    modified_lines = []\n",
    "\n",
    "    for line in lines:\n",
    "        columns = line.rstrip('\\n').split('\\t')\n",
    "\n",
    "        # Delete columns 3, 4, 5, 6, and 7\n",
    "        modified_columns = columns[:2] + columns[7:]\n",
    "\n",
    "        modified_line = '\\t'.join(modified_columns) + '\\n'\n",
    "        modified_lines.append(modified_line)\n",
    "\n",
    "    with open(output_file_path, 'w') as file:\n",
    "        file.writelines(modified_lines)\n",
    "\n",
    "print(\"TSV files modified successfully!\")"
   ]
  },
  {
   "cell_type": "code",
   "execution_count": 6,
   "id": "e8027e89",
   "metadata": {},
   "outputs": [
    {
     "name": "stdout",
     "output_type": "stream",
     "text": [
      "TSV files modified successfully!\n"
     ]
    }
   ],
   "source": [
    "import os\n",
    "import csv\n",
    "\n",
    "input_directory = r'./Nightingale 9'\n",
    "\n",
    "# TSV files in the input directory\n",
    "tsv_files = [file for file in os.listdir(input_directory) if file.endswith(\".tsv\")]\n",
    "\n",
    "for file_name in tsv_files:\n",
    "    input_file_path = os.path.join(input_directory, file_name)\n",
    "    output_file_path = os.path.join(input_directory, file_name[:-4] + \".tsv\")\n",
    "\n",
    "    # Modify the columns in each row while swapping values\n",
    "    with open(input_file_path, 'r', newline='') as tsv_file:\n",
    "        reader = csv.reader(tsv_file, delimiter='\\t')\n",
    "        rows = list(reader)[1:]\n",
    "    \n",
    "    for row in rows:\n",
    "        if len(row) >= 4:\n",
    "            row[0], row[1] = row[1], row[0]\n",
    "            row[2], row[3] = row[3], row[2]\n",
    "    \n",
    "    # Write the modified rows to the output TSV file\n",
    "    with open(output_file_path, 'w', newline='') as updated_tsv_file:\n",
    "        writer = csv.writer(updated_tsv_file, delimiter='\\t')\n",
    "        writer.writerows(rows)\n",
    "\n",
    "print(\"TSV files modified successfully!\")"
   ]
  },
  {
   "cell_type": "code",
   "execution_count": 7,
   "id": "131c1318",
   "metadata": {},
   "outputs": [
    {
     "name": "stdout",
     "output_type": "stream",
     "text": [
      "TSV files modified successfully!\n"
     ]
    }
   ],
   "source": [
    "#replace tabs wih \"|\"\n",
    "\n",
    "import os\n",
    "\n",
    "input_directory = r'./Nightingale 9'\n",
    "\n",
    "delimiter = '|'  # Specify the character you want to use as the delimiter\n",
    "\n",
    "# Get a list of all TSV files in the input directory\n",
    "tsv_files = [file for file in os.listdir(input_directory) if file.endswith(\".tsv\")]\n",
    "\n",
    "# Process each TSV file\n",
    "for file_name in tsv_files:\n",
    "    input_file_path = os.path.join(input_directory, file_name)\n",
    "    output_file_path = os.path.join(input_directory, file_name)\n",
    "\n",
    "    with open(input_file_path, 'r') as file:\n",
    "        lines = file.readlines()\n",
    "\n",
    "    modified_lines = []\n",
    "\n",
    "    for line in lines:\n",
    "        columns = line.rstrip('\\n').split('\\t')\n",
    "\n",
    "        # Join columns 3 to the last with the specified delimiter\n",
    "        modified_columns = columns[:2] + [delimiter.join(columns[2:])]\n",
    "\n",
    "        modified_line = '\\t'.join(modified_columns) + '\\n'\n",
    "        modified_lines.append(modified_line)\n",
    "\n",
    "    with open(output_file_path, 'w') as file:\n",
    "        file.writelines(modified_lines)\n",
    "\n",
    "print(\"TSV files modified successfully!\")"
   ]
  },
  {
   "cell_type": "code",
   "execution_count": null,
   "id": "605299cf",
   "metadata": {},
   "outputs": [],
   "source": []
  },
  {
   "cell_type": "code",
   "execution_count": null,
   "id": "11322bbb",
   "metadata": {},
   "outputs": [],
   "source": []
  },
  {
   "cell_type": "code",
   "execution_count": 9,
   "id": "210901c0",
   "metadata": {},
   "outputs": [
    {
     "name": "stdout",
     "output_type": "stream",
     "text": [
      "TSV files modified successfully!\n"
     ]
    }
   ],
   "source": [
    "# grup by 2 columns and add 3\n",
    "\n",
    "import os\n",
    "import pandas as pd\n",
    "\n",
    "input_directory = r'./Nightingale 10'\n",
    "\n",
    "# Get a list of all TSV files in the input directory\n",
    "tsv_files = [file for file in os.listdir(input_directory) if file.endswith(\".tsv\")]\n",
    "\n",
    "# Process each TSV file\n",
    "for file_name in tsv_files:\n",
    "    input_file_path = os.path.join(input_directory, file_name)\n",
    "    output_file_path = os.path.join(input_directory, file_name)\n",
    "\n",
    "    # Read the TSV file as a DataFrame\n",
    "    df = pd.read_csv(input_file_path, delimiter=\"\\t\", header=None)\n",
    "    row_3 = df[2][0]\n",
    "\n",
    "    # Group the DataFrame by the values in the first column and create a list of values from the second column for each group\n",
    "    grouped = df.groupby(0)[1].apply(lambda x: ','.join([str(value) for value in x if pd.notnull(value)])).reset_index(name='Duplicates')\n",
    "\n",
    "    # Add the third column with a constant value\n",
    "    grouped['Column3'] = row_3\n",
    "\n",
    "    # Write the modified DataFrame to a new TSV file\n",
    "    grouped.to_csv(output_file_path, sep=\"\\t\", index=False, header=['Column1', 'Duplicates', 'Column3'])\n",
    "\n",
    "print(\"TSV files modified successfully!\")"
   ]
  },
  {
   "cell_type": "code",
   "execution_count": 10,
   "id": "88661a36",
   "metadata": {},
   "outputs": [
    {
     "name": "stdout",
     "output_type": "stream",
     "text": [
      "TSV files modified successfully!\n"
     ]
    }
   ],
   "source": [
    "import os\n",
    "import pandas as pd\n",
    "\n",
    "input_directory = r'./Nightingale 10'\n",
    "\n",
    "# Get a list of all TSV files in the input directory\n",
    "tsv_files = [file for file in os.listdir(input_directory) if file.endswith(\".tsv\")]\n",
    "\n",
    "# Process each TSV file\n",
    "for file_name in tsv_files:\n",
    "    input_file_path = os.path.join(input_directory, file_name)\n",
    "    output_file_path = os.path.join(input_directory, file_name)\n",
    "\n",
    "    # Read the TSV file as a DataFrame\n",
    "    df = pd.read_csv(input_file_path, delimiter=\"\\t\", header=None)[1:]\n",
    "\n",
    "    # Join column 2 and column 3 with the \"|\" separator\n",
    "    df[1] = df[1].astype(str) + '|' + df[2].astype(str)\n",
    "\n",
    "    # Drop column 3\n",
    "    df.drop(columns=2, inplace=True)\n",
    "\n",
    "    # Write the modified DataFrame to a new TSV file\n",
    "    df.to_csv(output_file_path, sep=\"\\t\", index=False, header=['gene_name', 'info'])\n",
    "\n",
    "print(\"TSV files modified successfully!\")"
   ]
  },
  {
   "cell_type": "code",
   "execution_count": 1,
   "id": "34985f1a",
   "metadata": {},
   "outputs": [],
   "source": [
    "#joining all\n",
    "\n",
    "import os\n",
    "import pandas as pd\n",
    "\n",
    "# Set the directory path\n",
    "directory = r'./Dictionaries'\n",
    "\n",
    "# Create an empty dataframe\n",
    "combined_df = pd.DataFrame()\n",
    "\n",
    "# Iterate over each file in the directory\n",
    "for filename in os.listdir(directory):\n",
    "    if filename.endswith('.tsv'):\n",
    "        filepath = os.path.join(directory, filename)\n",
    "\n",
    "        try:\n",
    "            # Read the file into a dataframe\n",
    "            df = pd.read_csv(filepath, sep='\\t')\n",
    "            \n",
    "            # Append the data to the combined dataframe\n",
    "            combined_df = pd.concat([combined_df, df], ignore_index=True)\n",
    "        except pd.errors.EmptyDataError:\n",
    "            # Handle empty file, such as printing a message\n",
    "            print(f\"The file '{filename}' is empty. Skipping...\")\n",
    "\n",
    "# Get the header row from the first file\n",
    "header_row = combined_df.iloc[0]\n",
    "\n",
    "# Insert the header row at the beginning of the combined dataframe\n",
    "combined_df = pd.concat([header_row.to_frame().T, combined_df], ignore_index=True)\n",
    "\n",
    "# Write the combined dataframe to a new TSV file\n",
    "output_filepath = os.path.join(directory, 'combined_file.tsv')\n",
    "combined_df.to_csv(output_filepath, sep='\\t', index=False, header=False)"
   ]
  },
  {
   "cell_type": "code",
   "execution_count": 6,
   "id": "3ca9ce0f",
   "metadata": {},
   "outputs": [],
   "source": [
    "# To excell\n",
    "import pandas as pd\n",
    "\n",
    "combined = r'./Dictionaries/combined_file.tsv'\n",
    "combined_df = pd.read_csv(combined, sep='\\t')\n",
    "\n",
    "# Specify the output Excel file path\n",
    "output_filepath = r'./Dictionaries/combined_file.xlsx'\n",
    "\n",
    "# Write the dataframe to Excel\n",
    "combined_df.to_excel(output_filepath, index=False)"
   ]
  },
  {
   "cell_type": "code",
   "execution_count": null,
   "id": "bacafcc4",
   "metadata": {},
   "outputs": [],
   "source": []
  },
  {
   "cell_type": "code",
   "execution_count": null,
   "id": "ada07ae2",
   "metadata": {},
   "outputs": [],
   "source": []
  }
 ],
 "metadata": {
  "kernelspec": {
   "display_name": "Python 3 (ipykernel)",
   "language": "python",
   "name": "python3"
  },
  "language_info": {
   "codemirror_mode": {
    "name": "ipython",
    "version": 3
   },
   "file_extension": ".py",
   "mimetype": "text/x-python",
   "name": "python",
   "nbconvert_exporter": "python",
   "pygments_lexer": "ipython3",
   "version": "3.9.13"
  }
 },
 "nbformat": 4,
 "nbformat_minor": 5
}
