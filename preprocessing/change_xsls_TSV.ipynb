{
 "cells": [
  {
   "cell_type": "code",
   "execution_count": 3,
   "id": "57b11ef1",
   "metadata": {},
   "outputs": [],
   "source": [
    "import pandas as pd\n",
    "\n",
    "def convert_xlsx_to_tsv(input_file, output_file):\n",
    "    df = pd.read_excel(input_file)\n",
    "    df.to_csv(output_file, sep='\\t', index=False)\n",
    "\n",
    "# Example usage:\n",
    "input_file = 'geneBase_all_of_2_pub.xlsx'\n",
    "output_file = 'output.tsv'\n",
    "convert_xlsx_to_tsv(input_file, output_file)"
   ]
  },
  {
   "cell_type": "code",
   "execution_count": null,
   "id": "6f0544a8",
   "metadata": {},
   "outputs": [],
   "source": []
  }
 ],
 "metadata": {
  "kernelspec": {
   "display_name": "Python 3 (ipykernel)",
   "language": "python",
   "name": "python3"
  },
  "language_info": {
   "codemirror_mode": {
    "name": "ipython",
    "version": 3
   },
   "file_extension": ".py",
   "mimetype": "text/x-python",
   "name": "python",
   "nbconvert_exporter": "python",
   "pygments_lexer": "ipython3",
   "version": "3.9.13"
  }
 },
 "nbformat": 4,
 "nbformat_minor": 5
}
