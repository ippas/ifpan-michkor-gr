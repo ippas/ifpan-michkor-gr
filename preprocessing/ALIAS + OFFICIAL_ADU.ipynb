{
 "cells": [
  {
   "cell_type": "code",
   "execution_count": 1,
   "id": "fc36b13e",
   "metadata": {},
   "outputs": [],
   "source": [
    "import csv\n",
    "import pandas as pd\n",
    "import openpyxl"
   ]
  },
  {
   "cell_type": "code",
   "execution_count": 2,
   "id": "ac5fafe3",
   "metadata": {},
   "outputs": [],
   "source": [
    "# MGI\n",
    "wb_1 = openpyxl.load_workbook(r'C:\\Users\\Adrian\\Asia_GIT\\geneBase\\1_pub\\Main_notResponse\\MGI_EntrezGene.xlsx')\n",
    "ws_1 = wb_1.active\n",
    "\n",
    "ls_row_10 = [ws_1.cell(row=i,column=10).value for i in range(2,ws_1.max_row+1)]\n",
    "ls_row_2 = [ws_1.cell(row=i,column=2).value for i in range(2,ws_1.max_row+1)]\n",
    "ls_row_1 = [ws_1.cell(row=i,column=1).value for i in range(2,ws_1.max_row+1)]\n",
    "\n",
    "# notResponse\n",
    "wb = openpyxl.load_workbook(r'C:\\Users\\Adrian\\Asia_GIT\\geneBase\\2_pub\\FINAL_DICTIONARIES\\Dictionary\\all\\ls_notResponse_all_pub2.xlsx')\n",
    "ws = wb.active\n",
    "\n",
    "ls_notResponse = [ws.cell(row=i,column=1).value for i in range(2,ws.max_row+1)]\n",
    "\n",
    "\n"
   ]
  },
  {
   "cell_type": "code",
   "execution_count": 3,
   "id": "864bc09a",
   "metadata": {},
   "outputs": [
    {
     "name": "stdout",
     "output_type": "stream",
     "text": [
      "209\n"
     ]
    }
   ],
   "source": [
    "print(len(ls_notResponse))"
   ]
  },
  {
   "cell_type": "code",
   "execution_count": 4,
   "id": "1816318f",
   "metadata": {},
   "outputs": [
    {
     "name": "stdout",
     "output_type": "stream",
     "text": [
      "140\n"
     ]
    }
   ],
   "source": [
    "ls_response = []\n",
    "\n",
    "for notResponse in ls_notResponse:\n",
    "    word = str(notResponse).lower()\n",
    "    \n",
    "    for i in range(len(ls_row_10)):\n",
    "        \n",
    "        if ls_row_10[i]:\n",
    "            temp = str(ls_row_10[i]).lower()\n",
    "            t_strings = temp.split(\"|\")\n",
    "            \n",
    "            if word in t_strings:\n",
    "                ls_response.append([word, i, ls_row_1[i]])\n",
    "\n",
    "ls_response.insert(0, ['gene_name','alias_index','mgi_id'])\n",
    "\n",
    "print(len(ls_response))\n"
   ]
  },
  {
   "cell_type": "code",
   "execution_count": 5,
   "id": "5f5fd19b",
   "metadata": {},
   "outputs": [
    {
     "name": "stdout",
     "output_type": "stream",
     "text": [
      "[['gene_name', 'alias_index', 'mgi_id'], ['loc270152', 84273, 'MGI:2685484'], ['s3-12', 44573, 'MGI:1929709'], ['mycl1', 11525, 'MGI:96799'], ['axud1', 73984, 'MGI:2387989'], ['mfsd2', 61983, 'MGI:1923824'], ['amica1', 84273, 'MGI:2685484'], ['4631426j05rik', 63235, 'MGI:1924840'], ['6330505n24rik', 83475, 'MGI:2684972'], ['galntl4', 82310, 'MGI:2446239'], ['1810011o10rik', 50962, 'MGI:1916318'], ['gpr109a', 65703, 'MGI:1933383'], ['gm22', 83296, 'MGI:2684868'], ['4631416l12rik', 53505, 'MGI:1918053'], ['2310051e17rik', 35743, 'MGI:1333856'], ['edg5', 16435, 'MGI:99569'], ['tmem166', 81113, 'MGI:2385247'], ['2810003c17rik', 55968, 'MGI:1919598'], ['1300007l22rik', 54913, 'MGI:1919024'], ['chk', 16032, 'MGI:99259'], ['chk', 26527, 'MGI:107760'], ['tmem22', 84070, 'MGI:2685365'], ['a930008a22rik', 63466, 'MGI:1925037'], ['gpr123', 32554, 'MGI:1277167'], ['e130203b14rik', 77949, 'MGI:2444633'], ['9430029l20rik', 40935, 'MGI:1354948'], ['4631426j05rik', 63235, 'MGI:1924840'], ['phca', 45139, 'MGI:1913440'], ['6330404c01rik', 76890, 'MGI:2443629'], ['tcfcp2l1', 78029, 'MGI:2444691'], ['ptplb', 53427, 'MGI:1918007'], ['1600032l17rik', 61847, 'MGI:1923737'], ['ebi2', 75056, 'MGI:2442034'], ['2900002g04rik', 52688, 'MGI:1917474'], ['d8ertd82e', 30993, 'MGI:1196223'], ['ak3l1', 290, 'MGI:87979'], ['4632417k18rik', 49736, 'MGI:1915508'], ['bc046404', 85731, 'MGI:2682293'], ['4933421h10rik', 49581, 'MGI:1915428'], ['2310004n11rik', 58457, 'MGI:1921428'], ['1200015n20rik', 54798, 'MGI:1918971'], ['accn1', 30685, 'MGI:1100867'], ['a730017d01rik', 14332, 'MGI:98367'], ['1700084c01rik', 64201, 'MGI:1925715'], ['1810032o08rik', 45379, 'MGI:1913543'], ['gp49a', 20007, 'MGI:102702'], ['2600010e01rik', 56115, 'MGI:1919696'], ['ssfa2', 53246, 'MGI:1917849'], ['ccbl1', 52751, 'MGI:1917516'], ['gpr23', 63848, 'MGI:1925384'], ['a430084p05rik', 95056, 'MGI:3610314'], ['pp11r', 13329, 'MGI:97746'], ['gm129', 83482, 'MGI:2684975'], ['ym24d07', 35821, 'MGI:97770'], ['a630082k20rik', 76610, 'MGI:2443388'], ['ihpk2', 61864, 'MGI:1923750'], ['2810410a03rik', 23015, 'MGI:104991'], ['2600011e07rik', 55632, 'MGI:1919375'], ['fam178a', 63395, 'MGI:1924968'], ['agxt2l1', 54883, 'MGI:1919010'], ['9030024j15rik', 8537, 'MGI:95294'], ['4933426m11rik', 77986, 'MGI:2444661'], ['ppapdc2', 58893, 'MGI:1921661'], ['a930008g19rik', 63636, 'MGI:1925188'], ['centd3', 70029, 'MGI:2147274'], ['wbscr17', 66662, 'MGI:2137594'], ['2310076l09rik', 46848, 'MGI:1914218'], ['ihpk2', 61864, 'MGI:1923750'], ['2900057k09rik', 56853, 'MGI:1920257'], ['atad4', 74443, 'MGI:2387599'], ['lrrc8', 79890, 'MGI:2652847'], ['clecsf12', 42104, 'MGI:1861431'], ['fbxo18', 40805, 'MGI:1354699'], ['punc', 31665, 'MGI:1202390'], ['punc', 38721, 'MGI:1347357'], ['epb4.1l4a', 20428, 'MGI:103007'], ['ai607873', 66856, 'MGI:2138302'], ['ptgds2', 41576, 'MGI:1859384'], ['arfl4', 70677, 'MGI:1933155'], ['d15mit260', 24068, 'MGI:105870'], ['tenc1', 79152, 'MGI:2387586'], ['gp38', 20581, 'MGI:103098'], ['2310005p05rik', 48099, 'MGI:1914734'], ['fam178a', 63395, 'MGI:1924968'], ['edg3', 36444, 'MGI:1339365'], ['irg1', 20742, 'MGI:103206'], ['6330442e10rik', 77672, 'MGI:2444389'], ['gm129', 83482, 'MGI:2684975'], ['ctgf', 9084, 'MGI:95537'], ['irg1', 20742, 'MGI:103206'], ['3110043j09rik', 57018, 'MGI:1920417'], ['6720458d17rik', 22619, 'MGI:104756'], ['6430598a04rik', 77171, 'MGI:2443880'], ['1500005n04rik', 61864, 'MGI:1923750'], ['1110067d22rik', 50657, 'MGI:1916114'], ['2310045l10rik', 55248, 'MGI:1919193'], ['gm885', 84633, 'MGI:2685731'], ['c030027l06rik', 12596, 'MGI:97384'], ['ccbl1', 52751, 'MGI:1917516'], ['mobkl2a', 92345, 'MGI:3050117'], ['loc382003', 85629, 'MGI:2686544'], ['ppapdc2', 58893, 'MGI:1921661'], ['2310043i08rik', 51888, 'MGI:1916921'], ['tmem77', 47378, 'MGI:1914421'], ['1700084c01rik', 64201, 'MGI:1925715'], ['wdr21', 57895, 'MGI:1921078'], ['phca', 45139, 'MGI:1913440'], ['loc381217', 84736, 'MGI:2685813'], ['atad4', 74443, 'MGI:2387599'], ['2310076l09rik', 46848, 'MGI:1914218'], ['myd116', 43510, 'MGI:1927072'], ['2610528o22rik', 47161, 'MGI:1914324'], ['sept8', 29091, 'MGI:894310'], ['fam129b', 76032, 'MGI:2442910'], ['ihpk2', 61864, 'MGI:1923750'], ['naprt1', 75757, 'MGI:2442664'], ['cdc45l', 36163, 'MGI:1338073'], ['d16h22s680e', 18895, 'MGI:101825'], ['naprt1', 75757, 'MGI:2442664'], ['als2cr13', 56541, 'MGI:1920000'], ['march1', 56736, 'MGI:1920175'], ['accn1', 30685, 'MGI:1100867'], ['5033414k04rik', 66888, 'MGI:2138391'], ['ptgds2', 41576, 'MGI:1859384'], ['6230400g14rik', 63590, 'MGI:1925144'], ['gpr23', 63848, 'MGI:1925384'], ['1110038d17rik', 50540, 'MGI:1916028'], ['depdc6', 69707, 'MGI:2146322'], ['epb4.1l4b', 41473, 'MGI:1859149'], ['mfsd7c', 80512, 'MGI:2384974'], ['5430435g22rik', 75326, 'MGI:2442295'], ['acn9', 44776, 'MGI:1913288'], ['gm129', 83482, 'MGI:2684975'], ['2410081m15rik', 57687, 'MGI:1920930'], ['1300011l04rik', 74702, 'MGI:2447899'], ['mfsd7b', 78263, 'MGI:2444881'], ['2010107h07rik', 45793, 'MGI:1913737'], ['4833426j09rik', 54652, 'MGI:1918878'], ['slc24a6', 73289, 'MGI:2180781'], ['5430427o19rik', 54368, 'MGI:1918648']]\n"
     ]
    }
   ],
   "source": [
    "print(ls_response)"
   ]
  },
  {
   "cell_type": "code",
   "execution_count": 6,
   "id": "4325973e",
   "metadata": {},
   "outputs": [
    {
     "name": "stdout",
     "output_type": "stream",
     "text": [
      "32\n"
     ]
    }
   ],
   "source": [
    "ls_response2 = []\n",
    "\n",
    "for notResponse in ls_notResponse:\n",
    "    word = str(notResponse).lower()\n",
    "    \n",
    "    for i in range(len(ls_row_10)):\n",
    "        \n",
    "        if ls_row_10[i]:\n",
    "            temp = str(ls_row_10[i]).lower()\n",
    "    \n",
    "            if word == temp:\n",
    "                ls_response2.append([word, i, ls_row_1[i]])\n",
    "\n",
    "ls_response.insert(0, ['gene_name','official_index','mgi_id'])\n",
    "\n",
    "print(len(ls_response2))\n",
    "\n"
   ]
  },
  {
   "cell_type": "code",
   "execution_count": 7,
   "id": "83fafa45",
   "metadata": {},
   "outputs": [
    {
     "name": "stdout",
     "output_type": "stream",
     "text": [
      "[['s3-12', 44573, 'MGI:1929709'], ['6330505n24rik', 83475, 'MGI:2684972'], ['1810011o10rik', 50962, 'MGI:1916318'], ['2810003c17rik', 55968, 'MGI:1919598'], ['a930008a22rik', 63466, 'MGI:1925037'], ['e130203b14rik', 77949, 'MGI:2444633'], ['1600032l17rik', 61847, 'MGI:1923737'], ['ebi2', 75056, 'MGI:2442034'], ['4632417k18rik', 49736, 'MGI:1915508'], ['2310004n11rik', 58457, 'MGI:1921428'], ['a730017d01rik', 14332, 'MGI:98367'], ['1700084c01rik', 64201, 'MGI:1925715'], ['1810032o08rik', 45379, 'MGI:1913543'], ['a430084p05rik', 95056, 'MGI:3610314'], ['4933426m11rik', 77986, 'MGI:2444661'], ['a930008g19rik', 63636, 'MGI:1925188'], ['2900057k09rik', 56853, 'MGI:1920257'], ['2310005p05rik', 48099, 'MGI:1914734'], ['irg1', 20742, 'MGI:103206'], ['6330442e10rik', 77672, 'MGI:2444389'], ['irg1', 20742, 'MGI:103206'], ['3110043j09rik', 57018, 'MGI:1920417'], ['1110067d22rik', 50657, 'MGI:1916114'], ['loc382003', 85629, 'MGI:2686544'], ['2310043i08rik', 51888, 'MGI:1916921'], ['1700084c01rik', 64201, 'MGI:1925715'], ['cdc45l', 36163, 'MGI:1338073'], ['5033414k04rik', 66888, 'MGI:2138391'], ['1110038d17rik', 50540, 'MGI:1916028'], ['2410081m15rik', 57687, 'MGI:1920930'], ['1300011l04rik', 74702, 'MGI:2447899'], ['5430427o19rik', 54368, 'MGI:1918648']]\n"
     ]
    }
   ],
   "source": [
    "print(ls_response2)"
   ]
  },
  {
   "cell_type": "code",
   "execution_count": 8,
   "id": "daa5de4a",
   "metadata": {},
   "outputs": [
    {
     "name": "stdout",
     "output_type": "stream",
     "text": [
      "['s3-12', 44573, 'MGI:1929709']\n",
      "['6330505n24rik', 83475, 'MGI:2684972']\n",
      "['1810011o10rik', 50962, 'MGI:1916318']\n",
      "['2810003c17rik', 55968, 'MGI:1919598']\n",
      "['a930008a22rik', 63466, 'MGI:1925037']\n",
      "['e130203b14rik', 77949, 'MGI:2444633']\n",
      "['1600032l17rik', 61847, 'MGI:1923737']\n",
      "['ebi2', 75056, 'MGI:2442034']\n",
      "['4632417k18rik', 49736, 'MGI:1915508']\n",
      "['2310004n11rik', 58457, 'MGI:1921428']\n",
      "['a730017d01rik', 14332, 'MGI:98367']\n",
      "['1700084c01rik', 64201, 'MGI:1925715']\n",
      "['1810032o08rik', 45379, 'MGI:1913543']\n",
      "['a430084p05rik', 95056, 'MGI:3610314']\n",
      "['4933426m11rik', 77986, 'MGI:2444661']\n",
      "['a930008g19rik', 63636, 'MGI:1925188']\n",
      "['2900057k09rik', 56853, 'MGI:1920257']\n",
      "['2310005p05rik', 48099, 'MGI:1914734']\n",
      "['irg1', 20742, 'MGI:103206']\n",
      "['6330442e10rik', 77672, 'MGI:2444389']\n",
      "['irg1', 20742, 'MGI:103206']\n",
      "['3110043j09rik', 57018, 'MGI:1920417']\n",
      "['1110067d22rik', 50657, 'MGI:1916114']\n",
      "['loc382003', 85629, 'MGI:2686544']\n",
      "['2310043i08rik', 51888, 'MGI:1916921']\n",
      "['1700084c01rik', 64201, 'MGI:1925715']\n",
      "['cdc45l', 36163, 'MGI:1338073']\n",
      "['5033414k04rik', 66888, 'MGI:2138391']\n",
      "['1110038d17rik', 50540, 'MGI:1916028']\n",
      "['2410081m15rik', 57687, 'MGI:1920930']\n",
      "['1300011l04rik', 74702, 'MGI:2447899']\n",
      "['5430427o19rik', 54368, 'MGI:1918648']\n"
     ]
    }
   ],
   "source": [
    "ls_response_3 = ls_response\n",
    "\n",
    "for response in ls_response2:\n",
    "    if response not in ls_response_3:\n",
    "        ls_response_3.append(response)\n",
    "    else: print(response)\n",
    "        \n",
    "ls_response_3.pop(0)\n",
    "ls_response_3.pop(0)\n",
    "\n",
    "ls_response.insert(0, ['gene_name','official/alias_index','mgi_id'])\n",
    "\n",
    "data = ls_response_3\n",
    "df = pd.DataFrame.from_dict(data)\n"
   ]
  },
  {
   "cell_type": "code",
   "execution_count": 9,
   "id": "8808f9f9",
   "metadata": {},
   "outputs": [
    {
     "name": "stdout",
     "output_type": "stream",
     "text": [
      "[['gene_name', 'official/alias_index', 'mgi_id'], ['loc270152', 84273, 'MGI:2685484'], ['s3-12', 44573, 'MGI:1929709'], ['mycl1', 11525, 'MGI:96799'], ['axud1', 73984, 'MGI:2387989'], ['mfsd2', 61983, 'MGI:1923824'], ['amica1', 84273, 'MGI:2685484'], ['4631426j05rik', 63235, 'MGI:1924840'], ['6330505n24rik', 83475, 'MGI:2684972'], ['galntl4', 82310, 'MGI:2446239'], ['1810011o10rik', 50962, 'MGI:1916318'], ['gpr109a', 65703, 'MGI:1933383'], ['gm22', 83296, 'MGI:2684868'], ['4631416l12rik', 53505, 'MGI:1918053'], ['2310051e17rik', 35743, 'MGI:1333856'], ['edg5', 16435, 'MGI:99569'], ['tmem166', 81113, 'MGI:2385247'], ['2810003c17rik', 55968, 'MGI:1919598'], ['1300007l22rik', 54913, 'MGI:1919024'], ['chk', 16032, 'MGI:99259'], ['chk', 26527, 'MGI:107760'], ['tmem22', 84070, 'MGI:2685365'], ['a930008a22rik', 63466, 'MGI:1925037'], ['gpr123', 32554, 'MGI:1277167'], ['e130203b14rik', 77949, 'MGI:2444633'], ['9430029l20rik', 40935, 'MGI:1354948'], ['4631426j05rik', 63235, 'MGI:1924840'], ['phca', 45139, 'MGI:1913440'], ['6330404c01rik', 76890, 'MGI:2443629'], ['tcfcp2l1', 78029, 'MGI:2444691'], ['ptplb', 53427, 'MGI:1918007'], ['1600032l17rik', 61847, 'MGI:1923737'], ['ebi2', 75056, 'MGI:2442034'], ['2900002g04rik', 52688, 'MGI:1917474'], ['d8ertd82e', 30993, 'MGI:1196223'], ['ak3l1', 290, 'MGI:87979'], ['4632417k18rik', 49736, 'MGI:1915508'], ['bc046404', 85731, 'MGI:2682293'], ['4933421h10rik', 49581, 'MGI:1915428'], ['2310004n11rik', 58457, 'MGI:1921428'], ['1200015n20rik', 54798, 'MGI:1918971'], ['accn1', 30685, 'MGI:1100867'], ['a730017d01rik', 14332, 'MGI:98367'], ['1700084c01rik', 64201, 'MGI:1925715'], ['1810032o08rik', 45379, 'MGI:1913543'], ['gp49a', 20007, 'MGI:102702'], ['2600010e01rik', 56115, 'MGI:1919696'], ['ssfa2', 53246, 'MGI:1917849'], ['ccbl1', 52751, 'MGI:1917516'], ['gpr23', 63848, 'MGI:1925384'], ['a430084p05rik', 95056, 'MGI:3610314'], ['pp11r', 13329, 'MGI:97746'], ['gm129', 83482, 'MGI:2684975'], ['ym24d07', 35821, 'MGI:97770'], ['a630082k20rik', 76610, 'MGI:2443388'], ['ihpk2', 61864, 'MGI:1923750'], ['2810410a03rik', 23015, 'MGI:104991'], ['2600011e07rik', 55632, 'MGI:1919375'], ['fam178a', 63395, 'MGI:1924968'], ['agxt2l1', 54883, 'MGI:1919010'], ['9030024j15rik', 8537, 'MGI:95294'], ['4933426m11rik', 77986, 'MGI:2444661'], ['ppapdc2', 58893, 'MGI:1921661'], ['a930008g19rik', 63636, 'MGI:1925188'], ['centd3', 70029, 'MGI:2147274'], ['wbscr17', 66662, 'MGI:2137594'], ['2310076l09rik', 46848, 'MGI:1914218'], ['ihpk2', 61864, 'MGI:1923750'], ['2900057k09rik', 56853, 'MGI:1920257'], ['atad4', 74443, 'MGI:2387599'], ['lrrc8', 79890, 'MGI:2652847'], ['clecsf12', 42104, 'MGI:1861431'], ['fbxo18', 40805, 'MGI:1354699'], ['punc', 31665, 'MGI:1202390'], ['punc', 38721, 'MGI:1347357'], ['epb4.1l4a', 20428, 'MGI:103007'], ['ai607873', 66856, 'MGI:2138302'], ['ptgds2', 41576, 'MGI:1859384'], ['arfl4', 70677, 'MGI:1933155'], ['d15mit260', 24068, 'MGI:105870'], ['tenc1', 79152, 'MGI:2387586'], ['gp38', 20581, 'MGI:103098'], ['2310005p05rik', 48099, 'MGI:1914734'], ['fam178a', 63395, 'MGI:1924968'], ['edg3', 36444, 'MGI:1339365'], ['irg1', 20742, 'MGI:103206'], ['6330442e10rik', 77672, 'MGI:2444389'], ['gm129', 83482, 'MGI:2684975'], ['ctgf', 9084, 'MGI:95537'], ['irg1', 20742, 'MGI:103206'], ['3110043j09rik', 57018, 'MGI:1920417'], ['6720458d17rik', 22619, 'MGI:104756'], ['6430598a04rik', 77171, 'MGI:2443880'], ['1500005n04rik', 61864, 'MGI:1923750'], ['1110067d22rik', 50657, 'MGI:1916114'], ['2310045l10rik', 55248, 'MGI:1919193'], ['gm885', 84633, 'MGI:2685731'], ['c030027l06rik', 12596, 'MGI:97384'], ['ccbl1', 52751, 'MGI:1917516'], ['mobkl2a', 92345, 'MGI:3050117'], ['loc382003', 85629, 'MGI:2686544'], ['ppapdc2', 58893, 'MGI:1921661'], ['2310043i08rik', 51888, 'MGI:1916921'], ['tmem77', 47378, 'MGI:1914421'], ['1700084c01rik', 64201, 'MGI:1925715'], ['wdr21', 57895, 'MGI:1921078'], ['phca', 45139, 'MGI:1913440'], ['loc381217', 84736, 'MGI:2685813'], ['atad4', 74443, 'MGI:2387599'], ['2310076l09rik', 46848, 'MGI:1914218'], ['myd116', 43510, 'MGI:1927072'], ['2610528o22rik', 47161, 'MGI:1914324'], ['sept8', 29091, 'MGI:894310'], ['fam129b', 76032, 'MGI:2442910'], ['ihpk2', 61864, 'MGI:1923750'], ['naprt1', 75757, 'MGI:2442664'], ['cdc45l', 36163, 'MGI:1338073'], ['d16h22s680e', 18895, 'MGI:101825'], ['naprt1', 75757, 'MGI:2442664'], ['als2cr13', 56541, 'MGI:1920000'], ['march1', 56736, 'MGI:1920175'], ['accn1', 30685, 'MGI:1100867'], ['5033414k04rik', 66888, 'MGI:2138391'], ['ptgds2', 41576, 'MGI:1859384'], ['6230400g14rik', 63590, 'MGI:1925144'], ['gpr23', 63848, 'MGI:1925384'], ['1110038d17rik', 50540, 'MGI:1916028'], ['depdc6', 69707, 'MGI:2146322'], ['epb4.1l4b', 41473, 'MGI:1859149'], ['mfsd7c', 80512, 'MGI:2384974'], ['5430435g22rik', 75326, 'MGI:2442295'], ['acn9', 44776, 'MGI:1913288'], ['gm129', 83482, 'MGI:2684975'], ['2410081m15rik', 57687, 'MGI:1920930'], ['1300011l04rik', 74702, 'MGI:2447899'], ['mfsd7b', 78263, 'MGI:2444881'], ['2010107h07rik', 45793, 'MGI:1913737'], ['4833426j09rik', 54652, 'MGI:1918878'], ['slc24a6', 73289, 'MGI:2180781'], ['5430427o19rik', 54368, 'MGI:1918648']]\n"
     ]
    }
   ],
   "source": [
    "print(ls_response_3)"
   ]
  },
  {
   "cell_type": "code",
   "execution_count": 11,
   "id": "1c7d43eb",
   "metadata": {},
   "outputs": [],
   "source": [
    "df.to_excel(r'C:\\Users\\Adrian\\Asia_GIT\\geneBase\\2_pub\\FINAL_DICTIONARIES\\Dictionary\\all\\ls_response_mgi_all.xlsx', index=False)"
   ]
  },
  {
   "cell_type": "code",
   "execution_count": null,
   "id": "3896707c",
   "metadata": {},
   "outputs": [],
   "source": [
    "# ADD ALIAS 9 kolumna\n",
    "\n",
    "import csv\n",
    "import pandas as pd\n",
    "import openpyxl\n",
    "\n",
    "# MGI\n",
    "wb_4 = openpyxl.load_workbook(r'C:\\Users\\joasi\\geneBase\\1_pub\\Main_notResponse\\MGI_EntrezGene.xlsx')\n",
    "ws_4 = wb_4.active\n",
    "\n",
    "ls_row_alias = [ws_1.cell(row=i,column=10).value for i in range(2,ws_1.max_row+1)]\n",
    "ls_row_g_name = [ws_1.cell(row=i,column=2).value for i in range(2,ws_1.max_row+1)]\n",
    "\n",
    "\n",
    "# ls_dictionaries\n",
    "wb_5 = openpyxl.load_workbook(r'C:\\Users\\joasi\\geneBase\\2_pub\\FINAL_DICTIONARIES\\Dictionary\\astro_up\\astrocytes_dex_up_030423_copy.xlsx')\n",
    "ws_5 = wb_5.active\n",
    "\n",
    "ls_dictionary_gene = [ws.cell(row=i,column=1).value for i in range(2,ws.max_row+1)]\n",
    "ls_dictionary_alias = [ws.cell(row=i,column=9).value for i in range(2,ws.max_row+1)]\n",
    "\n",
    "ls_add = []\n",
    "\n",
    "\n",
    "for i in range(len(ls_dictionary_gene)):\n",
    "    temp = str(ls_dictionary_gene[i]).lower()\n",
    "    \n",
    "    for k in range(len(ls_row_g_name)):\n",
    "        temp_s = str(ls_row_g_name[k]).lower()\n",
    "        \n",
    "        if temp = temp_s:\n",
    "            ls_dictionary_alias[i] = ls_row_alias[k]\n",
    "            ls_add.append([temp, ls_row_alias[k]])\n",
    "\n",
    "\n",
    "print(len())"
   ]
  }
 ],
 "metadata": {
  "kernelspec": {
   "display_name": "Python 3 (ipykernel)",
   "language": "python",
   "name": "python3"
  },
  "language_info": {
   "codemirror_mode": {
    "name": "ipython",
    "version": 3
   },
   "file_extension": ".py",
   "mimetype": "text/x-python",
   "name": "python",
   "nbconvert_exporter": "python",
   "pygments_lexer": "ipython3",
   "version": "3.9.13"
  }
 },
 "nbformat": 4,
 "nbformat_minor": 5
}
