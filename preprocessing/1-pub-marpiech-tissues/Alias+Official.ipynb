{
 "cells": [
  {
   "cell_type": "code",
   "execution_count": 2,
   "id": "fc36b13e",
   "metadata": {},
   "outputs": [],
   "source": [
    "import csv\n",
    "import pandas as pd\n",
    "import openpyxl"
   ]
  },
  {
   "cell_type": "code",
   "execution_count": null,
   "id": "ac5fafe3",
   "metadata": {},
   "outputs": [],
   "source": [
    "# MGI\n",
    "wb_1 = openpyxl.load_workbook(r'C:\\Users\\joasi\\geneBase\\1_pub\\Main_notResponse\\MGI_EntrezGene.xlsx')\n",
    "ws_1 = wb_1.active\n",
    "\n",
    "ls_row_10 = [ws_1.cell(row=i,column=10).value for i in range(2,ws_1.max_row+1)]\n",
    "ls_row_2 = [ws_1.cell(row=i,column=2).value for i in range(2,ws_1.max_row+1)]\n",
    "\n",
    "\n",
    "# notResponse\n",
    "wb = openpyxl.load_workbook(r'C:\\Users\\joasi\\geneBase\\2_pub\\Wyniki wyników\\up_ls_notResponse.xlsx')\n",
    "ws = wb.active\n",
    "\n",
    "ls_notResponse = [ws.cell(row=i,column=1).value for i in range(2,ws.max_row+1)]\n",
    "\n",
    "\n"
   ]
  },
  {
   "cell_type": "code",
   "execution_count": 9,
   "id": "864bc09a",
   "metadata": {},
   "outputs": [
    {
     "name": "stdout",
     "output_type": "stream",
     "text": [
      "127\n"
     ]
    }
   ],
   "source": [
    "print(len(ls_notResponse))"
   ]
  },
  {
   "cell_type": "code",
   "execution_count": 12,
   "id": "1816318f",
   "metadata": {},
   "outputs": [
    {
     "name": "stdout",
     "output_type": "stream",
     "text": [
      "88\n"
     ]
    }
   ],
   "source": [
    "ls_response = []\n",
    "\n",
    "for notResponse in ls_notResponse:\n",
    "    word = str(notResponse).lower()\n",
    "    \n",
    "    for i in range(len(ls_row_10)):\n",
    "        \n",
    "        if ls_row_10[i]:\n",
    "            temp = str(ls_row_10[i]).lower()\n",
    "            t_strings = temp.split(\"|\")\n",
    "            \n",
    "            if word in t_strings:\n",
    "                ls_response.append([word, i])\n",
    "\n",
    "ls_response.insert(0, ['gene_name','alias_index'])\n",
    "\n",
    "print(len(ls_response))\n"
   ]
  },
  {
   "cell_type": "code",
   "execution_count": 18,
   "id": "5f5fd19b",
   "metadata": {},
   "outputs": [
    {
     "name": "stdout",
     "output_type": "stream",
     "text": [
      "[['gene_name', 'official_index'], ['gene_name', 'alias_index'], ['mfsd2', 61983], ['amica1', 84273], ['mycl1', 11525], ['s3-12', 44573], ['loc270152', 84273], ['4631426j05rik', 63235], ['4631416l12rik', 53505], ['2810410a03rik', 23015], ['axud1', 73984], ['gm129', 83482], ['galntl4', 82310], ['gm22', 83296], ['2310051e17rik', 35743], ['ihpk2', 61864], ['1810032o08rik', 45379], ['9430029l20rik', 40935], ['4631426j05rik', 63235], ['phca', 45139], ['1810011o10rik', 50962], ['2900002g04rik', 52688], ['accn1', 30685], ['ai607873', 66856], ['fam178a', 63395], ['ihpk2', 61864], ['gm129', 83482], ['ptplb', 53427], ['als2cr13', 56541], ['6330442e10rik', 77672], ['punc', 31665], ['punc', 38721], ['mobkl2a', 92345], ['arfl4', 70677], ['1600032l17rik', 61847], ['atad4', 74443], ['1300007l22rik', 54913], ['d16h22s680e', 18895], ['agxt2l1', 54883], ['1110038d17rik', 50540], ['chk', 16032], ['chk', 26527], ['a630082k20rik', 76610], ['9030024j15rik', 8537], ['sept8', 29091], ['2410081m15rik', 57687], ['lrrc8', 79890], ['2310076l09rik', 46848], ['2310043i08rik', 51888], ['ccbl1', 52751], ['fbxo18', 40805], ['tmem166', 81113], ['2900057k09rik', 56853], ['tcfcp2l1', 78029], ['march1', 56736], ['gm129', 83482], ['1500005n04rik', 61864], ['ctgf', 9084], ['6430598a04rik', 77171], ['ppapdc2', 58893], ['ssfa2', 53246], ['pp11r', 13329], ['ihpk2', 61864], ['1110067d22rik', 50657], ['ccbl1', 52751], ['4933426m11rik', 77986], ['tenc1', 79152], ['2010107h07rik', 45793], ['d15mit260', 24068], ['6720458d17rik', 22619], ['accn1', 30685], ['fam178a', 63395], ['2610528o22rik', 47161], ['e130203b14rik', 77949], ['2310076l09rik', 46848], ['4833426j09rik', 54652], ['atad4', 74443], ['c030027l06rik', 12596], ['myd116', 43510], ['1300011l04rik', 74702], ['tmem77', 47378], ['fam129b', 76032], ['ym24d07', 35821], ['cdc45l', 36163], ['depdc6', 69707], ['phca', 45139], ['ppapdc2', 58893], ['loc382003', 85629], ['wbscr17', 66662]]\n"
     ]
    }
   ],
   "source": [
    "print(ls_response)"
   ]
  },
  {
   "cell_type": "code",
   "execution_count": 13,
   "id": "4325973e",
   "metadata": {},
   "outputs": [
    {
     "name": "stdout",
     "output_type": "stream",
     "text": [
      "15\n"
     ]
    }
   ],
   "source": [
    "ls_response2 = []\n",
    "\n",
    "for notResponse in ls_notResponse:\n",
    "    word = str(notResponse).lower()\n",
    "    \n",
    "    for i in range(len(ls_row_10)):\n",
    "        \n",
    "        if ls_row_10[i]:\n",
    "            temp = str(ls_row_10[i]).lower()\n",
    "    \n",
    "            if word == temp:\n",
    "                ls_response2.append([word, i])\n",
    "\n",
    "ls_response.insert(0, ['gene_name','official_index'])\n",
    "\n",
    "print(len(ls_response2))\n",
    "\n"
   ]
  },
  {
   "cell_type": "code",
   "execution_count": 19,
   "id": "83fafa45",
   "metadata": {},
   "outputs": [
    {
     "name": "stdout",
     "output_type": "stream",
     "text": [
      "[['s3-12', 44573], ['1810032o08rik', 45379], ['1810011o10rik', 50962], ['6330442e10rik', 77672], ['1600032l17rik', 61847], ['1110038d17rik', 50540], ['2410081m15rik', 57687], ['2310043i08rik', 51888], ['2900057k09rik', 56853], ['1110067d22rik', 50657], ['4933426m11rik', 77986], ['e130203b14rik', 77949], ['1300011l04rik', 74702], ['cdc45l', 36163], ['loc382003', 85629]]\n"
     ]
    }
   ],
   "source": [
    "print(ls_response2)"
   ]
  },
  {
   "cell_type": "code",
   "execution_count": 17,
   "id": "daa5de4a",
   "metadata": {},
   "outputs": [
    {
     "name": "stdout",
     "output_type": "stream",
     "text": [
      "['s3-12', 44573]\n",
      "['1810032o08rik', 45379]\n",
      "['1810011o10rik', 50962]\n",
      "['6330442e10rik', 77672]\n",
      "['1600032l17rik', 61847]\n",
      "['1110038d17rik', 50540]\n",
      "['2410081m15rik', 57687]\n",
      "['2310043i08rik', 51888]\n",
      "['2900057k09rik', 56853]\n",
      "['1110067d22rik', 50657]\n",
      "['4933426m11rik', 77986]\n",
      "['e130203b14rik', 77949]\n",
      "['1300011l04rik', 74702]\n",
      "['cdc45l', 36163]\n",
      "['loc382003', 85629]\n"
     ]
    }
   ],
   "source": [
    "ls_response_3 = ls_response\n",
    "\n",
    "for response in ls_response2:\n",
    "    if response not in ls_response_3:\n",
    "        ls_response_3.append(response)\n",
    "    else: print(response)\n",
    "\n"
   ]
  },
  {
   "cell_type": "code",
   "execution_count": 16,
   "id": "8808f9f9",
   "metadata": {},
   "outputs": [
    {
     "name": "stdout",
     "output_type": "stream",
     "text": [
      "89\n"
     ]
    }
   ],
   "source": [
    "print(len(ls_response_3))"
   ]
  },
  {
   "cell_type": "code",
   "execution_count": 1,
   "id": "037ac9a5",
   "metadata": {},
   "outputs": [
    {
     "ename": "NameError",
     "evalue": "name 'ls_response_3' is not defined",
     "output_type": "error",
     "traceback": [
      "\u001b[1;31m---------------------------------------------------------------------------\u001b[0m",
      "\u001b[1;31mNameError\u001b[0m                                 Traceback (most recent call last)",
      "\u001b[1;32m~\\AppData\\Local\\Temp\\ipykernel_12348\\3185358997.py\u001b[0m in \u001b[0;36m<module>\u001b[1;34m\u001b[0m\n\u001b[1;32m----> 1\u001b[1;33m \u001b[0mdata\u001b[0m \u001b[1;33m=\u001b[0m \u001b[0mls_response_3\u001b[0m\u001b[1;33m\u001b[0m\u001b[1;33m\u001b[0m\u001b[0m\n\u001b[0m\u001b[0;32m      2\u001b[0m \u001b[0mdf\u001b[0m \u001b[1;33m=\u001b[0m \u001b[0mpd\u001b[0m\u001b[1;33m.\u001b[0m\u001b[0mDataFrame\u001b[0m\u001b[1;33m.\u001b[0m\u001b[0mfrom_dict\u001b[0m\u001b[1;33m(\u001b[0m\u001b[0mdata\u001b[0m\u001b[1;33m)\u001b[0m\u001b[1;33m\u001b[0m\u001b[1;33m\u001b[0m\u001b[0m\n",
      "\u001b[1;31mNameError\u001b[0m: name 'ls_response_3' is not defined"
     ]
    }
   ],
   "source": [
    "data = ls_response_3\n",
    "df = pd.DataFrame.from_dict(data)"
   ]
  },
  {
   "cell_type": "code",
   "execution_count": 22,
   "id": "1c7d43eb",
   "metadata": {},
   "outputs": [],
   "source": [
    "df.to_excel(r'C:\\Users\\joasi\\geneBase\\2_pub\\Wyniki wyników\\ls_response_mgi_270323.xlsx', index=False)"
   ]
  },
  {
   "cell_type": "code",
   "execution_count": null,
   "id": "3896707c",
   "metadata": {},
   "outputs": [],
   "source": []
  }
 ],
 "metadata": {
  "kernelspec": {
   "display_name": "Python 3 (ipykernel)",
   "language": "python",
   "name": "python3"
  },
  "language_info": {
   "codemirror_mode": {
    "name": "ipython",
    "version": 3
   },
   "file_extension": ".py",
   "mimetype": "text/x-python",
   "name": "python",
   "nbconvert_exporter": "python",
   "pygments_lexer": "ipython3",
   "version": "3.9.13"
  }
 },
 "nbformat": 4,
 "nbformat_minor": 5
}
