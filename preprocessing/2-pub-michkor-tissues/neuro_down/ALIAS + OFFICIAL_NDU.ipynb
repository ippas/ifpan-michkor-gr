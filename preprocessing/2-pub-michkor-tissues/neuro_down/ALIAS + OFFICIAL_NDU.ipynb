{
 "cells": [
  {
   "cell_type": "code",
   "execution_count": 1,
   "id": "fc36b13e",
   "metadata": {},
   "outputs": [],
   "source": [
    "import csv\n",
    "import pandas as pd\n",
    "import openpyxl"
   ]
  },
  {
   "cell_type": "code",
   "execution_count": 2,
   "id": "ac5fafe3",
   "metadata": {},
   "outputs": [],
   "source": [
    "# MGI\n",
    "wb_1 = openpyxl.load_workbook(r'C:\\Users\\joasi\\geneBase\\1_pub\\Main_notResponse\\MGI_EntrezGene.xlsx')\n",
    "ws_1 = wb_1.active\n",
    "\n",
    "ls_row_10 = [ws_1.cell(row=i,column=10).value for i in range(2,ws_1.max_row+1)]\n",
    "ls_row_2 = [ws_1.cell(row=i,column=2).value for i in range(2,ws_1.max_row+1)]\n",
    "ls_row_1 = [ws_1.cell(row=i,column=1).value for i in range(2,ws_1.max_row+1)]\n",
    "\n",
    "# notResponse\n",
    "wb = openpyxl.load_workbook(r'C:\\Users\\joasi\\geneBase\\2_pub\\FINAL_DICTIONARIES\\Dictionary\\neuro_down\\ls_notResponse_neurodown_pub2.xlsx')\n",
    "ws = wb.active\n",
    "\n",
    "ls_notResponse = [ws.cell(row=i,column=1).value for i in range(2,ws.max_row+1)]\n",
    "\n",
    "\n"
   ]
  },
  {
   "cell_type": "code",
   "execution_count": 3,
   "id": "864bc09a",
   "metadata": {},
   "outputs": [
    {
     "name": "stdout",
     "output_type": "stream",
     "text": [
      "28\n"
     ]
    }
   ],
   "source": [
    "print(len(ls_notResponse))"
   ]
  },
  {
   "cell_type": "code",
   "execution_count": 4,
   "id": "1816318f",
   "metadata": {},
   "outputs": [
    {
     "name": "stdout",
     "output_type": "stream",
     "text": [
      "21\n"
     ]
    }
   ],
   "source": [
    "ls_response = []\n",
    "\n",
    "for notResponse in ls_notResponse:\n",
    "    word = str(notResponse).lower()\n",
    "    \n",
    "    for i in range(len(ls_row_10)):\n",
    "        \n",
    "        if ls_row_10[i]:\n",
    "            temp = str(ls_row_10[i]).lower()\n",
    "            t_strings = temp.split(\"|\")\n",
    "            \n",
    "            if word in t_strings:\n",
    "                ls_response.append([word, i, ls_row_1[i]])\n",
    "\n",
    "ls_response.insert(0, ['gene_name','alias_index','mgi_id'])\n",
    "\n",
    "print(len(ls_response))\n"
   ]
  },
  {
   "cell_type": "code",
   "execution_count": 5,
   "id": "5f5fd19b",
   "metadata": {},
   "outputs": [
    {
     "name": "stdout",
     "output_type": "stream",
     "text": [
      "[['gene_name', 'alias_index', 'mgi_id'], ['2310005p05rik', 48099, 'MGI:1914734'], ['2810003c17rik', 55968, 'MGI:1919598'], ['gp38', 20581, 'MGI:103098'], ['5430435g22rik', 75326, 'MGI:2442295'], ['a930008g19rik', 63636, 'MGI:1925188'], ['naprt1', 75757, 'MGI:2442664'], ['mfsd7c', 80512, 'MGI:2384974'], ['epb4.1l4a', 20428, 'MGI:103007'], ['irg1', 20742, 'MGI:103206'], ['1700084c01rik', 64201, 'MGI:1925715'], ['5430427o19rik', 54368, 'MGI:1918648'], ['slc24a6', 73289, 'MGI:2180781'], ['ak3l1', 290, 'MGI:87979'], ['a430084p05rik', 95056, 'MGI:3610314'], ['1700084c01rik', 64201, 'MGI:1925715'], ['ptgds2', 41576, 'MGI:1859384'], ['5033414k04rik', 66888, 'MGI:2138391'], ['gm885', 84633, 'MGI:2685731'], ['naprt1', 75757, 'MGI:2442664'], ['acn9', 44776, 'MGI:1913288']]\n"
     ]
    }
   ],
   "source": [
    "print(ls_response)"
   ]
  },
  {
   "cell_type": "code",
   "execution_count": 6,
   "id": "4325973e",
   "metadata": {},
   "outputs": [
    {
     "name": "stdout",
     "output_type": "stream",
     "text": [
      "9\n"
     ]
    }
   ],
   "source": [
    "ls_response2 = []\n",
    "\n",
    "for notResponse in ls_notResponse:\n",
    "    word = str(notResponse).lower()\n",
    "    \n",
    "    for i in range(len(ls_row_10)):\n",
    "        \n",
    "        if ls_row_10[i]:\n",
    "            temp = str(ls_row_10[i]).lower()\n",
    "    \n",
    "            if word == temp:\n",
    "                ls_response2.append([word, i, ls_row_1[i]])\n",
    "\n",
    "ls_response.insert(0, ['gene_name','official_index','mgi_id'])\n",
    "\n",
    "print(len(ls_response2))\n",
    "\n"
   ]
  },
  {
   "cell_type": "code",
   "execution_count": 7,
   "id": "83fafa45",
   "metadata": {},
   "outputs": [
    {
     "name": "stdout",
     "output_type": "stream",
     "text": [
      "[['2310005p05rik', 48099, 'MGI:1914734'], ['2810003c17rik', 55968, 'MGI:1919598'], ['a930008g19rik', 63636, 'MGI:1925188'], ['irg1', 20742, 'MGI:103206'], ['1700084c01rik', 64201, 'MGI:1925715'], ['5430427o19rik', 54368, 'MGI:1918648'], ['a430084p05rik', 95056, 'MGI:3610314'], ['1700084c01rik', 64201, 'MGI:1925715'], ['5033414k04rik', 66888, 'MGI:2138391']]\n"
     ]
    }
   ],
   "source": [
    "print(ls_response2)"
   ]
  },
  {
   "cell_type": "code",
   "execution_count": 8,
   "id": "daa5de4a",
   "metadata": {},
   "outputs": [
    {
     "name": "stdout",
     "output_type": "stream",
     "text": [
      "['2310005p05rik', 48099, 'MGI:1914734']\n",
      "['2810003c17rik', 55968, 'MGI:1919598']\n",
      "['a930008g19rik', 63636, 'MGI:1925188']\n",
      "['irg1', 20742, 'MGI:103206']\n",
      "['1700084c01rik', 64201, 'MGI:1925715']\n",
      "['5430427o19rik', 54368, 'MGI:1918648']\n",
      "['a430084p05rik', 95056, 'MGI:3610314']\n",
      "['1700084c01rik', 64201, 'MGI:1925715']\n",
      "['5033414k04rik', 66888, 'MGI:2138391']\n"
     ]
    }
   ],
   "source": [
    "ls_response_3 = ls_response\n",
    "\n",
    "for response in ls_response2:\n",
    "    if response not in ls_response_3:\n",
    "        ls_response_3.append(response)\n",
    "    else: print(response)\n",
    "        \n",
    "ls_response_3.pop(0)\n",
    "ls_response_3.pop(0)\n",
    "\n",
    "ls_response.insert(0, ['gene_name','official/alias_index','mgi_id'])\n",
    "\n",
    "data = ls_response_3\n",
    "df = pd.DataFrame.from_dict(data)\n"
   ]
  },
  {
   "cell_type": "code",
   "execution_count": 9,
   "id": "8808f9f9",
   "metadata": {},
   "outputs": [
    {
     "name": "stdout",
     "output_type": "stream",
     "text": [
      "[['gene_name', 'official/alias_index', 'mgi_id'], ['2310005p05rik', 48099, 'MGI:1914734'], ['2810003c17rik', 55968, 'MGI:1919598'], ['gp38', 20581, 'MGI:103098'], ['5430435g22rik', 75326, 'MGI:2442295'], ['a930008g19rik', 63636, 'MGI:1925188'], ['naprt1', 75757, 'MGI:2442664'], ['mfsd7c', 80512, 'MGI:2384974'], ['epb4.1l4a', 20428, 'MGI:103007'], ['irg1', 20742, 'MGI:103206'], ['1700084c01rik', 64201, 'MGI:1925715'], ['5430427o19rik', 54368, 'MGI:1918648'], ['slc24a6', 73289, 'MGI:2180781'], ['ak3l1', 290, 'MGI:87979'], ['a430084p05rik', 95056, 'MGI:3610314'], ['1700084c01rik', 64201, 'MGI:1925715'], ['ptgds2', 41576, 'MGI:1859384'], ['5033414k04rik', 66888, 'MGI:2138391'], ['gm885', 84633, 'MGI:2685731'], ['naprt1', 75757, 'MGI:2442664'], ['acn9', 44776, 'MGI:1913288']]\n"
     ]
    }
   ],
   "source": [
    "print(ls_response_3)"
   ]
  },
  {
   "cell_type": "code",
   "execution_count": 10,
   "id": "1c7d43eb",
   "metadata": {},
   "outputs": [],
   "source": [
    "df.to_excel(r'C:\\Users\\joasi\\geneBase\\2_pub\\FINAL_DICTIONARIES\\Dictionary\\neuro_down\\ls_response_mgi_NDD.xlsx', index=False)"
   ]
  },
  {
   "cell_type": "code",
   "execution_count": 13,
   "id": "d279bae7",
   "metadata": {},
   "outputs": [
    {
     "data": {
      "text/plain": [
       "'alias_index'"
      ]
     },
     "execution_count": 13,
     "metadata": {},
     "output_type": "execute_result"
    }
   ],
   "source": [
    "indexy = [index[1] for index in ls_response_3]\n",
    "indexy.pop(0)\n",
    "indexy.pop(0)\n",
    "\n",
    "\n"
   ]
  },
  {
   "cell_type": "code",
   "execution_count": 12,
   "id": "a3d9cdb2",
   "metadata": {},
   "outputs": [
    {
     "name": "stdout",
     "output_type": "stream",
     "text": [
      "[49581, 61983, 84273, 81113, 77949, 73984, 78029, 56853, 44573, 35743, 84273, 53246, 58893, 50962, 35821, 36163, 66662, 9084, 53505, 61847, 45139, 52688, 56541, 40935]\n"
     ]
    }
   ],
   "source": [
    "print(indexy)\n",
    "\n"
   ]
  },
  {
   "cell_type": "code",
   "execution_count": 13,
   "id": "99682d2c",
   "metadata": {},
   "outputs": [],
   "source": [
    "# mgi_symbol\n"
   ]
  },
  {
   "cell_type": "code",
   "execution_count": 14,
   "id": "308dd624",
   "metadata": {},
   "outputs": [
    {
     "name": "stdout",
     "output_type": "stream",
     "text": [
      "          MGI:87853                              a  O  \\\n",
      "0         MGI:87853                           A<y>  W   \n",
      "1         MGI:87853                             As  W   \n",
      "2         MGI:87854                            Pzp  O   \n",
      "3         MGI:87854                       AI893533  W   \n",
      "4         MGI:87855                            Aal  O   \n",
      "...             ...                            ... ..   \n",
      "745996  MGI:7438358                Tg(CD2-cre)#Soy  O   \n",
      "745997  MGI:7438368         Tg(CAG-p35/Venus)1Miur  O   \n",
      "745998  MGI:7438371  Tg(Thy1-GCaMP7,-DsRed2)492Bsi  O   \n",
      "745999  MGI:7438380              Tg(CAG-EGFP)38Osb  O   \n",
      "746000  MGI:7438427              Tg(CAG-EGFP)15Osb  O   \n",
      "\n",
      "                                                nonagouti   76.83   2  \\\n",
      "0                                  withdrawn, allele of a  -999.0   2   \n",
      "1                                  withdrawn, allele of a  -999.0   2   \n",
      "2                         PZP, alpha-2-macroglobulin like   63.02   6   \n",
      "3                                        withdrawn, = A2m  -999.0   6   \n",
      "4                               active avoidance learning    -1.0   1   \n",
      "...                                                   ...     ...  ..   \n",
      "745996                  transgene insertion, Sho Yamasaki  -999.0  UN   \n",
      "745997              transgene insertion 1, Masayuki Miura  -999.0  UN   \n",
      "745998  transgene insertion 492, RIKEN Brain Science I...  -999.0  UN   \n",
      "745999  transgene insertion 38, Research Institute for...    -1.0   X   \n",
      "746000  transgene insertion 15, Research Institute for...  -999.0  UN   \n",
      "\n",
      "             Gene   Unnamed: 7     50518 agouti|As|agouti signal protein|ASP  \\\n",
      "0            Gene          NaN       NaN                                 NaN   \n",
      "1            Gene          NaN       NaN                                 NaN   \n",
      "2            Gene  MGI:2141514   11287.0                                 NaN   \n",
      "3            Gene          NaN       NaN                                 NaN   \n",
      "4            Gene          NaN  104236.0                                 NaN   \n",
      "...           ...          ...       ...                                 ...   \n",
      "745996  Transgene          NaN       NaN                                 NaN   \n",
      "745997  Transgene          NaN       NaN                                 NaN   \n",
      "745998  Transgene          NaN       NaN                                 NaN   \n",
      "745999  Transgene          NaN       NaN                                 NaN   \n",
      "746000  Transgene          NaN       NaN                                 NaN   \n",
      "\n",
      "                protein coding gene    154792519    154892932    +  \\\n",
      "0                               NaN          NaN          NaN  NaN   \n",
      "1                               NaN          NaN          NaN  NaN   \n",
      "2               protein coding gene  128460530.0  128503683.0    -   \n",
      "3                               NaN          NaN          NaN  NaN   \n",
      "4       heritable phenotypic marker          NaN          NaN  NaN   \n",
      "...                             ...          ...          ...  ...   \n",
      "745996                    transgene          NaN          NaN  NaN   \n",
      "745997                    transgene          NaN          NaN  NaN   \n",
      "745998                    transgene          NaN          NaN  NaN   \n",
      "745999                    transgene          NaN          NaN  NaN   \n",
      "746000                    transgene          NaN          NaN  NaN   \n",
      "\n",
      "        protein_coding|protein-coding  \n",
      "0                                 NaN  \n",
      "1                                 NaN  \n",
      "2       protein_coding|protein-coding  \n",
      "3                                 NaN  \n",
      "4                                 NaN  \n",
      "...                               ...  \n",
      "745996                            NaN  \n",
      "745997                            NaN  \n",
      "745998                            NaN  \n",
      "745999                            NaN  \n",
      "746000                            NaN  \n",
      "\n",
      "[746001 rows x 15 columns]\n"
     ]
    }
   ],
   "source": [
    "df = pd.read_excel(r'C:\\Users\\joasi\\geneBase\\1_pub\\Main_notResponse\\MGI_EntrezGene.xlsx')\n",
    "print(df)"
   ]
  },
  {
   "cell_type": "code",
   "execution_count": 16,
   "id": "dc070578",
   "metadata": {},
   "outputs": [],
   "source": [
    "index_mgi = df.index\n"
   ]
  },
  {
   "cell_type": "code",
   "execution_count": 17,
   "id": "d4197d03",
   "metadata": {},
   "outputs": [
    {
     "name": "stdout",
     "output_type": "stream",
     "text": [
      "3\n"
     ]
    }
   ],
   "source": [
    "print(index_mgi[3])"
   ]
  },
  {
   "cell_type": "code",
   "execution_count": 23,
   "id": "fd91df77",
   "metadata": {},
   "outputs": [],
   "source": [
    "ls_res = []\n",
    "\n",
    "for index in indexy:    \n",
    "    for i in range(len(index_mgi)):\n",
    "        if index == index_mgi[i]:\n",
    "            ls_res.append([ls_row_2[i-2],ls_row_1[i-2]])\n",
    "\n",
    "\n",
    "        \n",
    "        \n",
    "\n"
   ]
  },
  {
   "cell_type": "code",
   "execution_count": 24,
   "id": "5d58895f",
   "metadata": {},
   "outputs": [
    {
     "name": "stdout",
     "output_type": "stream",
     "text": [
      "[['Ebpl', 'MGI:1915427'], ['1700027D21Rik', 'MGI:1923823'], ['Gm637', 'MGI:2685483'], ['Tmem150', 'MGI:2385244'], ['D630029K19Rik', 'MGI:2444631'], ['Snord87', 'MGI:2387894'], ['9630045H20Rik', 'MGI:2444689'], ['2900078I11Rik', 'MGI:1920254'], ['AL024422', 'MGI:1929704'], ['Prkgr1b', 'MGI:108174'], ['Gm637', 'MGI:2685483'], ['5730485H21Rik', 'MGI:1917848'], ['AU043211', 'MGI:1921660'], ['1810010H24Rik', 'MGI:1916316'], ['AU019448', 'MGI:106661'], ['AI132552', 'MGI:1338071'], ['AW048963', 'MGI:2137586'], ['Fis-1', 'MGI:95536'], ['D930040F23Rik', 'MGI:1918052'], ['2410015A16Rik', 'MGI:1923736'], ['1110032C13Rik', 'MGI:1913438'], ['3010001M15Rik', 'MGI:1917473'], ['2810439M11Rik', 'MGI:1919999'], ['D130053K17Rik', 'MGI:1354946']]\n"
     ]
    }
   ],
   "source": [
    "print(ls_res)"
   ]
  },
  {
   "cell_type": "code",
   "execution_count": 25,
   "id": "037ac9a5",
   "metadata": {},
   "outputs": [],
   "source": [
    "data = ls_res\n",
    "df = pd.DataFrame.from_dict(data)"
   ]
  },
  {
   "cell_type": "code",
   "execution_count": null,
   "id": "3896707c",
   "metadata": {},
   "outputs": [],
   "source": []
  }
 ],
 "metadata": {
  "kernelspec": {
   "display_name": "Python 3 (ipykernel)",
   "language": "python",
   "name": "python3"
  },
  "language_info": {
   "codemirror_mode": {
    "name": "ipython",
    "version": 3
   },
   "file_extension": ".py",
   "mimetype": "text/x-python",
   "name": "python",
   "nbconvert_exporter": "python",
   "pygments_lexer": "ipython3",
   "version": "3.9.13"
  }
 },
 "nbformat": 4,
 "nbformat_minor": 5
}
