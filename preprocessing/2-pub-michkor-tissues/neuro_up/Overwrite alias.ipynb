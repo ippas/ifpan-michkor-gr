{
 "cells": [
  {
   "cell_type": "code",
   "execution_count": 1,
   "id": "311fca5d",
   "metadata": {},
   "outputs": [],
   "source": [
    "import openpyxl\n",
    "\n",
    "# MGI\n",
    "wb_mgi = openpyxl.load_workbook(r'C:\\Users\\Adrian\\Asia_GIT\\geneBase\\1_pub\\Main_notResponse\\MGI_EntrezGene.xlsx')\n",
    "ws_mgi = wb_mgi.active\n",
    "ls_row_alias = [ws_mgi.cell(row=i,column=10).value for i in range(2,ws_mgi.max_row+1)]\n",
    "ls_row_g_name = [ws_mgi.cell(row=i,column=2).value for i in range(2,ws_mgi.max_row+1)]    \n",
    "    \n",
    "    \n",
    "# load excel file and open workbook\n",
    "workbook = openpyxl.load_workbook(r'C:\\Users\\Adrian\\Asia_GIT\\geneBase\\2_pub\\FINAL_DICTIONARIES\\Dictionary\\neuro_up\\neurocytes_dex_up_030423 — kopia.xlsx')\n",
    "sheet = workbook.active\n",
    "\n",
    "ls_row_2 = [sheet.cell(row=i,column=2).value for i in range(2,sheet.max_row+1)]\n",
    "ls_row_9 = [sheet.cell(row=i,column=10).value for i in range(2,sheet.max_row+1)]\n",
    "\n",
    "length = len(ls_row_2)+2"
   ]
  },
  {
   "cell_type": "code",
   "execution_count": 2,
   "id": "41828b30",
   "metadata": {},
   "outputs": [
    {
     "name": "stdout",
     "output_type": "stream",
     "text": [
      "Tg.ARSmu\n"
     ]
    }
   ],
   "source": [
    "print(ls_row_g_name[14963])"
   ]
  },
  {
   "cell_type": "code",
   "execution_count": 3,
   "id": "657968fd",
   "metadata": {
    "scrolled": true
   },
   "outputs": [],
   "source": [
    "#modify the desired cell\n",
    "for i in range(2,length):\n",
    "    I_cel = 'I'+str(i+2)\n",
    "    \n",
    "    for k in range(len(ls_row_g_name)):\n",
    "        try:\n",
    "            if str(ls_row_g_name[k]).lower() == str(ls_row_2[i]).lower():\n",
    "                if ls_row_alias[k] is not None:\n",
    "                    sheet[I_cel] = ls_row_alias[k]\n",
    "                else:\n",
    "                    continue\n",
    "        except:\n",
    "            continue\n",
    "\n",
    "#save the file\n",
    "workbook.save(r'C:\\Users\\Adrian\\Asia_GIT\\geneBase\\2_pub\\FINAL_DICTIONARIES\\Dictionary\\neuro_up\\neurocytes_dex_up_withAlias.xlsx')"
   ]
  },
  {
   "cell_type": "code",
   "execution_count": 14,
   "id": "f75fc7b9",
   "metadata": {},
   "outputs": [],
   "source": []
  },
  {
   "cell_type": "code",
   "execution_count": 20,
   "id": "39307005",
   "metadata": {},
   "outputs": [
    {
     "name": "stdout",
     "output_type": "stream",
     "text": [
      "134\n"
     ]
    }
   ],
   "source": [
    "print(length)"
   ]
  },
  {
   "cell_type": "code",
   "execution_count": null,
   "id": "dee9196f",
   "metadata": {},
   "outputs": [],
   "source": []
  }
 ],
 "metadata": {
  "kernelspec": {
   "display_name": "Python 3 (ipykernel)",
   "language": "python",
   "name": "python3"
  },
  "language_info": {
   "codemirror_mode": {
    "name": "ipython",
    "version": 3
   },
   "file_extension": ".py",
   "mimetype": "text/x-python",
   "name": "python",
   "nbconvert_exporter": "python",
   "pygments_lexer": "ipython3",
   "version": "3.11.0"
  }
 },
 "nbformat": 4,
 "nbformat_minor": 5
}
