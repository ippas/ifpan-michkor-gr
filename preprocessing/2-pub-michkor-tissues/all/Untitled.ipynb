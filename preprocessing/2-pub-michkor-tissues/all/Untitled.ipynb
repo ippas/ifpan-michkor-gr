{
 "cells": [
  {
   "cell_type": "code",
   "execution_count": 1,
   "id": "bce064ec",
   "metadata": {},
   "outputs": [],
   "source": [
    "import openpyxl"
   ]
  },
  {
   "cell_type": "code",
   "execution_count": 34,
   "id": "70292eaa",
   "metadata": {},
   "outputs": [],
   "source": [
    "# open files\n",
    "wb = openpyxl.load_workbook(r'C:\\Users\\Adrian\\Asia_GIT\\geneBase\\2_pub\\FINAL_DICTIONARIES\\12868_2017_352_MOESM1_ESM_02.xlsx')\n",
    "ws = wb.active\n",
    "\n",
    "gene_name_2_pub = [ws.cell(row=i,column=4).value for i in range(1,ws.max_row)]"
   ]
  },
  {
   "cell_type": "code",
   "execution_count": 57,
   "id": "43fe4325",
   "metadata": {},
   "outputs": [
    {
     "name": "stdout",
     "output_type": "stream",
     "text": [
      "905\n"
     ]
    }
   ],
   "source": [
    "print(len(gene_name_2_pub))"
   ]
  },
  {
   "cell_type": "code",
   "execution_count": 58,
   "id": "5dafb4b9",
   "metadata": {},
   "outputs": [
    {
     "name": "stdout",
     "output_type": "stream",
     "text": [
      "Stim1\n"
     ]
    }
   ],
   "source": [
    "print(gene_name_2_pub[695])"
   ]
  },
  {
   "cell_type": "code",
   "execution_count": 60,
   "id": "6cd62f11",
   "metadata": {},
   "outputs": [],
   "source": [
    "nonDuplicates = []\n",
    "x= 0\n",
    "\n",
    "for gene in gene_name_2_pub:\n",
    "    if gene != '':\n",
    "        gene_2 = gene\n",
    "        if gene_2 not in nonDuplicates:\n",
    "            nonDuplicates.append(gene)"
   ]
  },
  {
   "cell_type": "code",
   "execution_count": 62,
   "id": "7cabfcbe",
   "metadata": {},
   "outputs": [
    {
     "name": "stdout",
     "output_type": "stream",
     "text": [
      "753\n"
     ]
    }
   ],
   "source": [
    "print(len(nonDuplicates))\n"
   ]
  },
  {
   "cell_type": "code",
   "execution_count": null,
   "id": "13968edb",
   "metadata": {},
   "outputs": [],
   "source": []
  }
 ],
 "metadata": {
  "kernelspec": {
   "display_name": "Python 3 (ipykernel)",
   "language": "python",
   "name": "python3"
  },
  "language_info": {
   "codemirror_mode": {
    "name": "ipython",
    "version": 3
   },
   "file_extension": ".py",
   "mimetype": "text/x-python",
   "name": "python",
   "nbconvert_exporter": "python",
   "pygments_lexer": "ipython3",
   "version": "3.11.0"
  }
 },
 "nbformat": 4,
 "nbformat_minor": 5
}
